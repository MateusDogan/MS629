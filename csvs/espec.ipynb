{
 "cells": [
  {
   "cell_type": "code",
   "execution_count": 25,
   "metadata": {},
   "outputs": [],
   "source": [
    "import pycutest\n",
    "import numpy as np\n",
    "import time\n",
    "import pandas as pd\n",
    "\n",
    "testes = [\n",
    "    \"ARGLINA\", \"ARGLINB\", \"BA-L1SPLS\", \"BIGGS6\", \"BROWNAL\", \"COATING\",\n",
    "    \"FLETCHCR\", \"GAUSS2LS\", \"GENROSE\", \"HAHN1LS\", \"HEART6LS\", \"HILBERTB\",\n",
    "    \"HYDCAR6LS\", \"LANCZOS1LS\", \"LANCZOS2LS\", \"LRIJCNN1\", \"LUKSAN12LS\",\n",
    "    \"LUKSAN16LS\", \"OSBORNEA\", \"PALMER1C\", \"PALMER3C\", \"PENALTY2\", \"PENALTY3\",\n",
    "    \"QING\", \"ROSENBR\", \"STRTCHDV\", \"TESTQUAD\", \"THURBERLS\", \"TRIGON1\",\n",
    "    \"TOINTGOR\"\n",
    "]"
   ]
  },
  {
   "cell_type": "code",
   "execution_count": 26,
   "metadata": {},
   "outputs": [],
   "source": [
    "def armijo_facil(problema,ponto,grad):\n",
    "    passo = 1\n",
    "    k = 1\n",
    "    b = problema.obj(ponto)\n",
    "    a = 1.0e-4*np.dot(grad,grad) \n",
    "    for k in range(100):\n",
    "        if problema.obj(ponto + passo*grad) <= a*passo + b:\n",
    "            return passo\n",
    "        else:\n",
    "            passo *= 0.5\n",
    "    return passo"
   ]
  },
  {
   "cell_type": "code",
   "execution_count": 27,
   "metadata": {},
   "outputs": [],
   "source": [
    "class parameters:\n",
    "    def __init__(self,function: str):\n",
    "        self.function = pycutest.import_problem(function)                #deixar so os metodos publicos depois\n",
    "        self.xk = self.function.x0                                      \n",
    "        self.old_xk = None                                \n",
    "        self.grad = self.function.grad(self.xk)                          #sempre teremos uma funcao gradiente para computar\n",
    "        self.grad_calls = 1                                              #por isso inicializamos a chamada de gradiente como 1\n",
    "        self.val_calls = 0\n",
    "        self.old_grad = None\n",
    "        self.get_new_point(self.xk - armijo_facil(self.function,self.xk,self.grad)*self.gradient())\n",
    "        \n",
    "    def get_new_point(self,x):\n",
    "        self.old_xk = self.xk\n",
    "        self.xk = x\n",
    "        self.old_grad = self.grad\n",
    "        self.grad = self.function.grad(self.xk)\n",
    "        self.grad_calls += 1\n",
    "        \n",
    "    def gradient(self):\n",
    "        return self.grad\n",
    "    \n",
    "    def objective(self, ponto):\n",
    "        self.val_calls += 1\n",
    "        return self.function.obj(ponto)\n",
    "\n",
    "    def variation(self):         #retorna delta de x e delta de y\n",
    "        return  (self.xk - self.old_xk ,self.grad - self.old_grad)  "
   ]
  },
  {
   "cell_type": "code",
   "execution_count": 28,
   "metadata": {},
   "outputs": [],
   "source": [
    "def sigma(function: parameters)-> float:\n",
    "    deltax, deltay = function.variation()\n",
    "    \"\"\"\n",
    "    a partir de agora e feito o quadrados minimos\n",
    "    de uma unica variavel\n",
    "    com a aproximação da matriz quasi newton\n",
    "    \"\"\"\n",
    "    skyk = np.dot(deltax,deltay)\n",
    "    if skyk > 0.0:                                      \n",
    "        sigma = skyk / np.dot(deltax,deltax)\n",
    "    else: \n",
    "        sigma = 1.0e-4 * np.linalg.norm(function.grad, ord= np.inf) / max(1.0, np.linalg.norm(function.xk, ord = np.inf))\n",
    "    return max(1.0e-30, min(sigma, 1.0e30))\n"
   ]
  },
  {
   "cell_type": "code",
   "execution_count": 29,
   "metadata": {},
   "outputs": [],
   "source": [
    "\n",
    "def Armijo(function: parameters, passo: float, dk, a, b) ->bool:\n",
    "    aux = function.objective(function.xk + passo*dk)                  #utilizar armijo so para verificar                        \n",
    "    if (aux <= passo*a + b):                                          #se o passo e bom ou nao\n",
    "        return True\n",
    "    return False\n",
    "\n",
    "#--------------------------------------------------------------------------------------------------\n",
    "#Busca usada\n",
    "def step_parameter(parameters: parameters, direction) -> float:\n",
    "    M = parameters.objective(parameters.xk)\n",
    "    passo = 1.0\n",
    "    aux = 1e-4*np.dot(parameters.grad,direction)                            #parametro eta = 1e-4 referencia relatorio\n",
    "    for j in range(100):                                                    #limite j = 100 dificilmente chega nele, um numero exagerado de grande\n",
    "        if Armijo(parameters, passo,direction,aux,M):                       #explicação detalhada esta no relatorio\n",
    "            return passo\n",
    "        else:\n",
    "            passo = passo*0.5                                               #parametro beta que está no relatorio a referencia\n",
    "    return passo                                                            #mas qualquer numero entre 0,5 a 0,8 converge bem\n",
    "\n",
    "def minimize(function: parameters, tolerance = 1e-5):            \n",
    "    maximum_iterations = int(1e5)\n",
    "    start = time.process_time()                                         \n",
    "    for iteration in range(maximum_iterations):\n",
    "        if np.linalg.norm(function.gradient(), ord= np.inf) < tolerance:\n",
    "            end = time.process_time()\n",
    "            tempo = end - start\n",
    "            return {\n",
    "                \"val_calls\": function.val_calls,\n",
    "                \"grad_calls\": function.grad_calls,\n",
    "                \"tempo\": tempo\n",
    "            }\n",
    "        else:\n",
    "            dk = -function.gradient()/sigma(function)\n",
    "            step = step_parameter(function,dk)\n",
    "            function.get_new_point(function.xk + step*dk)\n",
    "    # Retorna negativo para indicar falha, se não convergir em máximo de iterações\n",
    "    return {\n",
    "        \"val_calls\": -function.val_calls,\n",
    "        \"grad_calls\": -function.grad_calls,\n",
    "        \"tempo\": 0.0\n",
    "    }"
   ]
  },
  {
   "cell_type": "code",
   "execution_count": null,
   "metadata": {},
   "outputs": [
    {
     "name": "stderr",
     "output_type": "stream",
     "text": [
      "/tmp/ipykernel_3482/3918345844.py:3: RuntimeWarning: invalid value encountered in scalar add\n",
      "  if (aux <= passo*a + b):                                          #se o passo e bom ou nao\n"
     ]
    }
   ],
   "source": [
    "espc = {i: minimize(parameters(i)) for i in testes}\n",
    "df = pd.DataFrame(espc).T\n",
    "df"
   ]
  },
  {
   "cell_type": "code",
   "execution_count": null,
   "metadata": {},
   "outputs": [],
   "source": [
    "df.to_csv(r\"Espectral_normal_tabela.csv\",index=testes)"
   ]
  }
 ],
 "metadata": {
  "kernelspec": {
   "display_name": ".venv",
   "language": "python",
   "name": "python3"
  },
  "language_info": {
   "codemirror_mode": {
    "name": "ipython",
    "version": 3
   },
   "file_extension": ".py",
   "mimetype": "text/x-python",
   "name": "python",
   "nbconvert_exporter": "python",
   "pygments_lexer": "ipython3",
   "version": "3.11.2"
  }
 },
 "nbformat": 4,
 "nbformat_minor": 2
}
